{
 "cells": [
  {
   "cell_type": "markdown",
   "metadata": {},
   "source": [
    "# Titanic -- Analyzing Raw Data to Verify Popular Myth"
   ]
  },
  {
   "cell_type": "markdown",
   "metadata": {},
   "source": [
    "A popular myth surrounding the sinking of the Titanic that the crew observed the Birkenhead Drill, directing women and children to exit the limited life rafts first.  Can this be verified in the data?"
   ]
  },
  {
   "cell_type": "code",
   "execution_count": 1,
   "metadata": {
    "collapsed": false
   },
   "outputs": [],
   "source": [
    "import pandas as pd\n",
    "import numpy as np\n",
    "from scipy.stats import chi2_contingency\n",
    "from scipy.stats import mannwhitneyu\n",
    "import plotly.plotly as py\n",
    "import plotly.graph_objs as go\n",
    "import cufflinks as cf\n",
    "import statsmodels.api as sm\n",
    "from plotly.tools import FigureFactory as FF\n",
    "from plotly.tools import make_subplots\n",
    "\n",
    "titanic_df = pd.read_csv('titanic_data.csv')"
   ]
  },
  {
   "cell_type": "markdown",
   "metadata": {},
   "source": [
    "First, an overview of what is present in this data set:"
   ]
  },
  {
   "cell_type": "code",
   "execution_count": 2,
   "metadata": {
    "collapsed": false,
    "scrolled": true
   },
   "outputs": [
    {
     "data": {
      "text/html": [
       "<div>\n",
       "<table border=\"1\" class=\"dataframe\">\n",
       "  <thead>\n",
       "    <tr style=\"text-align: right;\">\n",
       "      <th></th>\n",
       "      <th>PassengerId</th>\n",
       "      <th>Survived</th>\n",
       "      <th>Pclass</th>\n",
       "      <th>Name</th>\n",
       "      <th>Sex</th>\n",
       "      <th>Age</th>\n",
       "      <th>SibSp</th>\n",
       "      <th>Parch</th>\n",
       "      <th>Ticket</th>\n",
       "      <th>Fare</th>\n",
       "      <th>Cabin</th>\n",
       "      <th>Embarked</th>\n",
       "    </tr>\n",
       "  </thead>\n",
       "  <tbody>\n",
       "    <tr>\n",
       "      <th>0</th>\n",
       "      <td>1</td>\n",
       "      <td>0</td>\n",
       "      <td>3</td>\n",
       "      <td>Braund, Mr. Owen Harris</td>\n",
       "      <td>male</td>\n",
       "      <td>22.0</td>\n",
       "      <td>1</td>\n",
       "      <td>0</td>\n",
       "      <td>A/5 21171</td>\n",
       "      <td>7.2500</td>\n",
       "      <td>NaN</td>\n",
       "      <td>S</td>\n",
       "    </tr>\n",
       "    <tr>\n",
       "      <th>1</th>\n",
       "      <td>2</td>\n",
       "      <td>1</td>\n",
       "      <td>1</td>\n",
       "      <td>Cumings, Mrs. John Bradley (Florence Briggs Th...</td>\n",
       "      <td>female</td>\n",
       "      <td>38.0</td>\n",
       "      <td>1</td>\n",
       "      <td>0</td>\n",
       "      <td>PC 17599</td>\n",
       "      <td>71.2833</td>\n",
       "      <td>C85</td>\n",
       "      <td>C</td>\n",
       "    </tr>\n",
       "    <tr>\n",
       "      <th>2</th>\n",
       "      <td>3</td>\n",
       "      <td>1</td>\n",
       "      <td>3</td>\n",
       "      <td>Heikkinen, Miss. Laina</td>\n",
       "      <td>female</td>\n",
       "      <td>26.0</td>\n",
       "      <td>0</td>\n",
       "      <td>0</td>\n",
       "      <td>STON/O2. 3101282</td>\n",
       "      <td>7.9250</td>\n",
       "      <td>NaN</td>\n",
       "      <td>S</td>\n",
       "    </tr>\n",
       "    <tr>\n",
       "      <th>3</th>\n",
       "      <td>4</td>\n",
       "      <td>1</td>\n",
       "      <td>1</td>\n",
       "      <td>Futrelle, Mrs. Jacques Heath (Lily May Peel)</td>\n",
       "      <td>female</td>\n",
       "      <td>35.0</td>\n",
       "      <td>1</td>\n",
       "      <td>0</td>\n",
       "      <td>113803</td>\n",
       "      <td>53.1000</td>\n",
       "      <td>C123</td>\n",
       "      <td>S</td>\n",
       "    </tr>\n",
       "    <tr>\n",
       "      <th>4</th>\n",
       "      <td>5</td>\n",
       "      <td>0</td>\n",
       "      <td>3</td>\n",
       "      <td>Allen, Mr. William Henry</td>\n",
       "      <td>male</td>\n",
       "      <td>35.0</td>\n",
       "      <td>0</td>\n",
       "      <td>0</td>\n",
       "      <td>373450</td>\n",
       "      <td>8.0500</td>\n",
       "      <td>NaN</td>\n",
       "      <td>S</td>\n",
       "    </tr>\n",
       "  </tbody>\n",
       "</table>\n",
       "</div>"
      ],
      "text/plain": [
       "   PassengerId  Survived  Pclass  \\\n",
       "0            1         0       3   \n",
       "1            2         1       1   \n",
       "2            3         1       3   \n",
       "3            4         1       1   \n",
       "4            5         0       3   \n",
       "\n",
       "                                                Name     Sex   Age  SibSp  \\\n",
       "0                            Braund, Mr. Owen Harris    male  22.0      1   \n",
       "1  Cumings, Mrs. John Bradley (Florence Briggs Th...  female  38.0      1   \n",
       "2                             Heikkinen, Miss. Laina  female  26.0      0   \n",
       "3       Futrelle, Mrs. Jacques Heath (Lily May Peel)  female  35.0      1   \n",
       "4                           Allen, Mr. William Henry    male  35.0      0   \n",
       "\n",
       "   Parch            Ticket     Fare Cabin Embarked  \n",
       "0      0         A/5 21171   7.2500   NaN        S  \n",
       "1      0          PC 17599  71.2833   C85        C  \n",
       "2      0  STON/O2. 3101282   7.9250   NaN        S  \n",
       "3      0            113803  53.1000  C123        S  \n",
       "4      0            373450   8.0500   NaN        S  "
      ]
     },
     "execution_count": 2,
     "metadata": {},
     "output_type": "execute_result"
    }
   ],
   "source": [
    "titanic_df.head()"
   ]
  },
  {
   "cell_type": "markdown",
   "metadata": {},
   "source": [
    "For a general idea of what data is present and the data distribution, these are the basic stats on the overall data.  "
   ]
  },
  {
   "cell_type": "code",
   "execution_count": 4,
   "metadata": {
    "collapsed": false
   },
   "outputs": [
    {
     "name": "stdout",
     "output_type": "stream",
     "text": [
      "       PassengerId    Survived      Pclass         Age       SibSp  \\\n",
      "count   891.000000  891.000000  891.000000  714.000000  891.000000   \n",
      "mean    446.000000    0.383838    2.308642   29.699118    0.523008   \n",
      "std     257.353842    0.486592    0.836071   14.526497    1.102743   \n",
      "min       1.000000    0.000000    1.000000    0.420000    0.000000   \n",
      "25%     223.500000    0.000000    2.000000         NaN    0.000000   \n",
      "50%     446.000000    0.000000    3.000000         NaN    0.000000   \n",
      "75%     668.500000    1.000000    3.000000         NaN    1.000000   \n",
      "max     891.000000    1.000000    3.000000   80.000000    8.000000   \n",
      "\n",
      "            Parch        Fare  \n",
      "count  891.000000  891.000000  \n",
      "mean     0.381594   32.204208  \n",
      "std      0.806057   49.693429  \n",
      "min      0.000000    0.000000  \n",
      "25%      0.000000    7.910400  \n",
      "50%      0.000000   14.454200  \n",
      "75%      0.000000   31.000000  \n",
      "max      6.000000  512.329200  \n"
     ]
    }
   ],
   "source": [
    "#Survived is a binary, mapping it to a string for display purposes\n",
    "titanic_df['Survival'] = titanic_df['Survived'].replace({0:'Victim', 1: 'Survivor'})\n",
    "\n",
    "#Because of NaN in data, this may show a warning on some versions of Pandas that NaN is present in data\n",
    "print titanic_df.describe()"
   ]
  },
  {
   "cell_type": "markdown",
   "metadata": {},
   "source": [
    "Out of the approximately 1,317 people on the Titanic at the time of the accident, the Kaggle data used in this project contains 891 people.  This is 67.65% of the passengers.  Out of these, 342 were survivors.  Surprisingly, this means that out of the data available in Kaggle, 38% were survivors.  However, the estimated passenger counts show 53% of the passengers survived.\n",
    "\n",
    "Because the data set is incomplete in relation to passenger ages, all analysis regarding age will be on the set of data where age is present."
   ]
  },
  {
   "cell_type": "markdown",
   "metadata": {},
   "source": [
    "A more detailed distribution of the categorical data can be seen in the following pie charts."
   ]
  },
  {
   "cell_type": "code",
   "execution_count": 5,
   "metadata": {
    "collapsed": false
   },
   "outputs": [
    {
     "data": {
      "text/html": [
       "<iframe id=\"igraph\" scrolling=\"no\" style=\"border:none;\" seamless=\"seamless\" src=\"https://plot.ly/~jennis/132.embed\" height=\"525px\" width=\"100%\"></iframe>"
      ],
      "text/plain": [
       "<plotly.tools.PlotlyDisplay object>"
      ]
     },
     "execution_count": 5,
     "metadata": {},
     "output_type": "execute_result"
    }
   ],
   "source": [
    "# print titanic_df.Sex.value_counts()\n",
    "#create dataframe with count of passengers by sex\n",
    "t_sexvc_df = titanic_df.Sex.value_counts().to_frame()\n",
    "\n",
    "#label by index (Male/Female for Sex), values are the value counts\n",
    "sexlabels =t_sexvc_df.index.tolist()\n",
    "sexvalues = values=t_sexvc_df['Sex'].tolist()\n",
    "\n",
    "#dataframe and label/values for Survived\n",
    "t_srv_df = titanic_df.Survival.value_counts().to_frame()\n",
    "srvlabels = t_srv_df.index.tolist()\n",
    "srvvalues = t_srv_df['Survival'].tolist()\n",
    "\n",
    "#dataframe and label/values for Passenger Class\n",
    "t_pclass_df = titanic_df.Pclass.value_counts().to_frame()\n",
    "pclasslabels = t_pclass_df.index.tolist()\n",
    "pclassvalues = t_pclass_df['Pclass'].tolist()\n",
    "\n",
    "#dataframe and label/values for Cabin\n",
    "t_emb_df = titanic_df.Embarked.value_counts().to_frame()\n",
    "emblabels = t_emb_df.index.tolist()\n",
    "embvalues = t_emb_df['Embarked'].tolist()\n",
    "\n",
    "fig = {\n",
    "    'data': [\n",
    "        {\n",
    "            'labels': sexlabels,\n",
    "            'values': sexvalues,\n",
    "            'type': 'pie',\n",
    "            'name': 'Sex',\n",
    "            'hoverinfo': 'label+percent+name',\n",
    "            'domain': {'x': [0, .48],\n",
    "                       'y': [.51, 1]},     \n",
    "        },\n",
    "        {\n",
    "            'labels': srvlabels,\n",
    "            'values': srvvalues,\n",
    "            'type': 'pie',\n",
    "            'name': 'Survival',\n",
    "            'hoverinfo': 'label+percent+name',\n",
    "            'domain': {'x': [.52, 1],\n",
    "                       'y': [.51, 1]}\n",
    "        },\n",
    "        {\n",
    "            'labels': pclasslabels,\n",
    "            'values': pclassvalues,\n",
    "            'type': 'pie',\n",
    "            'name': 'Passenger Class',\n",
    "            'hoverinfo': 'label+percent+name',\n",
    "            'domain': {'x': [0, .48],\n",
    "                       'y': [0, .49]}\n",
    "        },\n",
    "        {\n",
    "            'labels': emblabels,\n",
    "            'values': embvalues,\n",
    "            'type': 'pie',\n",
    "            'name': 'Embarked',\n",
    "            'hoverinfo': 'label+percent+name',\n",
    "            'domain': {'x': [.52, 1],\n",
    "                       'y': [0, .49]},\n",
    "        }\n",
    "    ],\n",
    "    'layout': {'title': 'Passenger Totals by Category',\n",
    "               'showlegend': False,\n",
    "#                'subplot_titles': {'Sex','Passenger Class'}\n",
    "              }\n",
    "}\n",
    "\n",
    "py.iplot(fig)\n",
    "\n",
    "# titanic_df['Sex'].iplot()"
   ]
  },
  {
   "cell_type": "markdown",
   "metadata": {},
   "source": [
    "To look at the distribution for fares, we can use a Violin chart to see the IQR, max, mean, and mininum, as well as a visual representation of the poisson distribution."
   ]
  },
  {
   "cell_type": "code",
   "execution_count": 7,
   "metadata": {
    "collapsed": false,
    "scrolled": true
   },
   "outputs": [
    {
     "data": {
      "text/html": [
       "<iframe id=\"igraph\" scrolling=\"no\" style=\"border:none;\" seamless=\"seamless\" src=\"https://plot.ly/~jennis/89.embed\" height=\"450px\" width=\"600px\"></iframe>"
      ],
      "text/plain": [
       "<plotly.tools.PlotlyDisplay object>"
      ]
     },
     "execution_count": 7,
     "metadata": {},
     "output_type": "execute_result"
    }
   ],
   "source": [
    "vfig = FF.create_violin(titanic_df['Fare'])\n",
    "py.iplot(vfig, filename = 'One Violin')"
   ]
  },
  {
   "cell_type": "markdown",
   "metadata": {},
   "source": [
    "The overall distribution for age can be visualized by a histogram."
   ]
  },
  {
   "cell_type": "code",
   "execution_count": 8,
   "metadata": {
    "collapsed": false,
    "scrolled": true
   },
   "outputs": [
    {
     "data": {
      "text/html": [
       "<iframe id=\"igraph\" scrolling=\"no\" style=\"border:none;\" seamless=\"seamless\" src=\"https://plot.ly/~jennis/120.embed\" height=\"525px\" width=\"100%\"></iframe>"
      ],
      "text/plain": [
       "<plotly.tools.PlotlyDisplay object>"
      ]
     },
     "execution_count": 8,
     "metadata": {},
     "output_type": "execute_result"
    }
   ],
   "source": [
    "#note: mouseover has average age for that bin in grey, total passengers in that bin in red.\n",
    "titanic_df['Age'].iplot(kind='histogram', filename='cufflinks/customized-histogram',\n",
    "                       yTitle = 'Number of Passengers', xTitle = 'Age',\n",
    "                       title = 'Age of Passengers', histfunc = 'count'\n",
    "                       ,bins = 25, text = 'Age')\n"
   ]
  },
  {
   "cell_type": "markdown",
   "metadata": {},
   "source": [
    "## Gender"
   ]
  },
  {
   "cell_type": "markdown",
   "metadata": {},
   "source": [
    "To test whether there is a correlation between Titanic passenger gender and survival, $\\chi^2$ is appropriate as gender is a nominal variable.\n",
    "\n",
    "$H_{0}:\\mu_{f}=\\mu_{m} $\n",
    "\n",
    "The null hypothesis for the correlation between gender and survival, $H_{0}$, is there will be no difference between survival rates for passengers based on gender.\n",
    "\n",
    "$H_{s}: \\mu_{f}>\\mu_{m}$\n",
    "\n",
    "The alternative hypothesis, $H_{s}$, is there will be a higher survival rate for female passengers than for male passengers. \n",
    "\n",
    "To prove the null hypothesis, a mininum 95% probability or 0.05 p-value threshold will be held."
   ]
  },
  {
   "cell_type": "code",
   "execution_count": 9,
   "metadata": {
    "collapsed": false
   },
   "outputs": [
    {
     "name": "stdout",
     "output_type": "stream",
     "text": [
      "The actual frequency distribution table for sex and survival is:\n",
      "Sex       female  male\n",
      "Survival              \n",
      "Survivor     233   109\n",
      "Victim        81   468\n",
      "\n",
      "At 1 degree of freedom, chi squared with Yates' correction for continuity is 260.717020167. \n",
      "The p-value for this outcome is 1.19735706278e-58.\n",
      "\n",
      "The expected values if there were no correlation between sex and survival, also known as the expected bivariate \n",
      "distribution, is:\n",
      "[[ 120.52525253  221.47474747]\n",
      " [ 193.47474747  355.52525253]]\n"
     ]
    }
   ],
   "source": [
    "#create a frequency distribution table to analyze sex:survival\n",
    "sex_survival_tab = pd.crosstab(titanic_df.Survival, titanic_df.Sex)\n",
    "print \"The actual frequency distribution table for sex and survival is:\"\n",
    "print sex_survival_tab\n",
    "\n",
    "#calculate chi squared to test for a correlation between sex and survival:\n",
    "chi2, p, ddof, expected = chi2_contingency(sex_survival_tab)\n",
    "msg = \"\"\"\\nAt {} degree of freedom, chi squared with Yates' correction for continuity is {}. \n",
    "The p-value for this outcome is {}.\n",
    "\\nThe expected values if there were no correlation between sex and survival, also known as the expected bivariate \n",
    "distribution, is:\\n{}\"\"\"\n",
    "print msg.format(ddof,chi2, p, expected)"
   ]
  },
  {
   "cell_type": "markdown",
   "metadata": {},
   "source": [
    "The value for $\\chi^2$ is high, this suggests a correlation between gender and survival.  \n",
    "\n",
    "$\\phi$ will measure the the strength of the relationship between Titanic passenger gender and survival.  "
   ]
  },
  {
   "cell_type": "code",
   "execution_count": 10,
   "metadata": {
    "collapsed": false
   },
   "outputs": [
    {
     "name": "stdout",
     "output_type": "stream",
     "text": [
      "The phi measure of association between sex and survival is 0.543351380658.\n"
     ]
    }
   ],
   "source": [
    "#We can use the uncorrected chi squared to determine phi squared\n",
    "phi = np.sqrt(chi2_contingency(sex_survival_tab, correction=False)[0]/titanic_df.PassengerId.count())\n",
    "msg = 'The phi measure of association between sex and survival is {}.'\n",
    "print msg.format(phi)"
   ]
  },
  {
   "cell_type": "markdown",
   "metadata": {},
   "source": [
    "The P value, 1.19735706278e-58, for this correlation between gender and survival is extremely statistically significant.  "
   ]
  },
  {
   "cell_type": "markdown",
   "metadata": {
    "collapsed": false,
    "scrolled": true
   },
   "source": [
    "Visually, the relationship between gender and survival is also very strong."
   ]
  },
  {
   "cell_type": "code",
   "execution_count": 11,
   "metadata": {
    "collapsed": false,
    "scrolled": true
   },
   "outputs": [
    {
     "data": {
      "text/html": [
       "<iframe id=\"igraph\" scrolling=\"no\" style=\"border:none;\" seamless=\"seamless\" src=\"https://plot.ly/~jennis/7.embed\" height=\"525px\" width=\"100%\"></iframe>"
      ],
      "text/plain": [
       "<plotly.tools.PlotlyDisplay object>"
      ]
     },
     "execution_count": 11,
     "metadata": {},
     "output_type": "execute_result"
    }
   ],
   "source": [
    "pd.crosstab(titanic_df.Sex, titanic_df.Survival).iplot(kind='bar', filename='cufflinks/bar-chart', title = 'Survival by Gender',\n",
    "                       yTitle = 'Number of Passengers', xTitle = 'Passenger Gender')"
   ]
  },
  {
   "cell_type": "markdown",
   "metadata": {},
   "source": [
    "The above graph visually displays how female passengers were significantly more likely to survive than male passengers."
   ]
  },
  {
   "cell_type": "markdown",
   "metadata": {},
   "source": [
    "## Age\n",
    "\n",
    "\n",
    "$H_{0}:\\mu_{a}=\\mu_{y} $\n",
    "\n",
    "The null hypothesis, $H_{0}$, is there will be no difference between survival rates for passengers based on age.\n",
    "\n",
    "$H_{a}: \\mu_{a}<\\mu_{y}$\n",
    "\n",
    "The alternative hypothesis, $H_{a}$, is there will be a higher survival rate for younger passengers than for adult passengers. \n",
    "\n",
    "To prove the null hypothesis, a mininum 95% probability or 0.05 p-value threshold will be held.\n",
    "\n",
    "Because the age data is incomplete, we'll limit the data to what contains age and compare that to survival:"
   ]
  },
  {
   "cell_type": "code",
   "execution_count": 13,
   "metadata": {
    "collapsed": true
   },
   "outputs": [],
   "source": [
    "#add a binary gender for line purposes\n",
    "titanic_df['SexBinary']=titanic_df['Sex'].replace({'male': 1, 'female': 0})\n",
    "\n",
    "#filter data to non-NaN age data\n",
    "titanic_with_ages_df = titanic_df[titanic_df['Age'].notnull()]"
   ]
  },
  {
   "cell_type": "markdown",
   "metadata": {},
   "source": [
    "Because age is an ordinal variable, the Mann-Whitney test is an appropriate measurement of the probability that an observation of the survival rate of the population of a certain age would be equal to the survival rate of the general population."
   ]
  },
  {
   "cell_type": "code",
   "execution_count": 14,
   "metadata": {
    "collapsed": false
   },
   "outputs": [
    {
     "name": "stdout",
     "output_type": "stream",
     "text": [
      "MannwhitneyuResult(statistic=790290.0, pvalue=4.2195654324180847e-298)\n"
     ]
    }
   ],
   "source": [
    "#calculate Mann-Whitney for Age:Survived correlation\n",
    "print mannwhitneyu(titanic_df['Age'], titanic_df['Survived'], alternative='two-sided')"
   ]
  },
  {
   "cell_type": "markdown",
   "metadata": {},
   "source": [
    "The calculated p-value of 0 is significantly lower than the required p value of 0.05.  Therefore, the Mann-Whitney test shows a very low probability for the age:survival correlation, if age had no effect on survival.  \n",
    "\n",
    "This distinction is also dramatic visually."
   ]
  },
  {
   "cell_type": "code",
   "execution_count": 15,
   "metadata": {
    "collapsed": false
   },
   "outputs": [],
   "source": [
    "#Create grouped data to display the number of Survivors/Victims by Age\n",
    "titanic_groupby_age_survived = titanic_with_ages_df.groupby(['Age','Survival'])\n",
    "\n",
    "#unstack the data so it will show in 'two' stacked graphs\n",
    "titanic_survival_age = titanic_groupby_age_survived['PassengerId'].count().unstack().fillna(0)"
   ]
  },
  {
   "cell_type": "code",
   "execution_count": 27,
   "metadata": {
    "collapsed": false
   },
   "outputs": [
    {
     "data": {
      "text/html": [
       "<iframe id=\"igraph\" scrolling=\"no\" style=\"border:none;\" seamless=\"seamless\" src=\"https://plot.ly/~jennis/120.embed\" height=\"525px\" width=\"100%\"></iframe>"
      ],
      "text/plain": [
       "<plotly.tools.PlotlyDisplay object>"
      ]
     },
     "execution_count": 27,
     "metadata": {},
     "output_type": "execute_result"
    }
   ],
   "source": [
    "titanic_survival_age.iplot(kind='histogram', filename='cufflinks/customized-histogram',\n",
    "                           yTitle = 'Number of Passengers', xTitle = 'Age of Passengers',\n",
    "                           title='Age and Survival for Titanic Passengers',\n",
    "                           histfunc = 'count'\n",
    "                          )"
   ]
  },
  {
   "cell_type": "markdown",
   "metadata": {},
   "source": [
    "## Age and Sex\n",
    "\n",
    "Age and sex individually appear to have some affect on the survival chances for an individual passenger.  \n",
    "\n",
    "Let's look at a graph of survival by age and sex combined."
   ]
  },
  {
   "cell_type": "code",
   "execution_count": 28,
   "metadata": {
    "collapsed": false
   },
   "outputs": [
    {
     "name": "stdout",
     "output_type": "stream",
     "text": [
      "This is the format of your plot grid:\n",
      "[ (1,1) x1,y1 ]\n",
      "[ (2,1) x1,y2 ]\n",
      "\n"
     ]
    },
    {
     "data": {
      "text/html": [
       "<iframe id=\"igraph\" scrolling=\"no\" style=\"border:none;\" seamless=\"seamless\" src=\"https://plot.ly/~jennis/108.embed\" height=\"525px\" width=\"100%\"></iframe>"
      ],
      "text/plain": [
       "<plotly.tools.PlotlyDisplay object>"
      ]
     },
     "execution_count": 28,
     "metadata": {},
     "output_type": "execute_result"
    }
   ],
   "source": [
    "fig = make_subplots(rows=2, cols=1, shared_xaxes=True, subplot_titles=('Age and Survival for Female Titanic Passengers',\n",
    "                                                                       'Age and Survival for Male Titanic Passengers'))\n",
    "\n",
    "titanic_w_ages_f_df = pd.crosstab(titanic_with_ages_df[titanic_with_ages_df['Sex'] == 'female'].Age, \n",
    "                                  titanic_with_ages_df[titanic_with_ages_df['Sex'] == 'female'].Survival)\n",
    "\n",
    "for col in ['Survivor','Victim']:\n",
    "    fig.append_trace({'x': titanic_w_ages_f_df.index, 'y': titanic_w_ages_f_df[col], 'type': 'scatter', 'name': 'Female ' + col},\n",
    "                     1, 1)\n",
    "\n",
    "titanic_w_ages_m_df = pd.crosstab(titanic_with_ages_df[titanic_with_ages_df['Sex'] == 'male'].Age, \n",
    "                                  titanic_with_ages_df[titanic_with_ages_df['Sex'] == 'male'].Survival)\n",
    "\n",
    "for col in ['Survivor','Victim']:\n",
    "    fig.append_trace({'x': titanic_w_ages_m_df.index, 'y': titanic_w_ages_m_df[col], 'type': 'scatter', 'name': 'Male ' + col},\n",
    "                     2, 1) \n",
    "\n",
    "fig['layout'].update(title='Survival by Age and Gender')\n",
    "    \n",
    "py.iplot(fig, filename='pandas/cufflinks-subplot rows',)"
   ]
  },
  {
   "cell_type": "markdown",
   "metadata": {},
   "source": [
    "Age and Survival for Titanic Passengers appears to show a likelihood for victims to be adults rather than seniors or small children.  This supports the theory that the Burkenhead drill was followed; there is a strong correlation between sex and survival, and a statistically significant correlation between age and survival.  \n",
    "\n",
    "However, before assuming causality, other factors would need to be brought into consideration to ensure that these two correlations are not a result of a common-causal variable."
   ]
  },
  {
   "cell_type": "markdown",
   "metadata": {},
   "source": [
    "For example, we will compare age, sex, and passenger class to the survival of each passenger who has a reported age.  Perhaps passenger survival was akin to the blockbuster movie Titanic, and the wealthier passengers had a better rate at survival than the lower-class passengers.\n",
    "\n",
    "$H_{0}: \\mu_{uc}=\\mu_{lc}$\n",
    "\n",
    "Taking the passenger's class into account, a new null hypothesis will be that the upper-class passengers, $\\mu_{uc}$, would have the same survival rate as the lower-class passengers, $\\mu_{lc}$, while accounting for passenger age and gender.\n",
    "\n",
    "$H_{c}: \\mu_{uc}>\\mu_{lc}$\n",
    "\n",
    "The alternative hypothesis, $\\mu_{c}$, is that the survival rate of upper-class passengers is higher than the survival rate of lower-class passengers.\n",
    "\n",
    "The p-value to prove the null hypothesis will hold at 0.05."
   ]
  },
  {
   "cell_type": "markdown",
   "metadata": {},
   "source": [
    "For this hypothesis, the dependent variable is survival and the independent variables are age, sex, and passenger class.\n",
    "\n",
    "Because survival is a categorical variable, logistic regression is an appopriate test to determine whether the independent variables of age, sex, and passenger class, had a statistically significant influence on the dependent variable of passenger survival."
   ]
  },
  {
   "cell_type": "code",
   "execution_count": 29,
   "metadata": {
    "collapsed": false
   },
   "outputs": [
    {
     "name": "stdout",
     "output_type": "stream",
     "text": [
      "Optimization terminated successfully.\n",
      "         Current function value: 0.548600\n",
      "         Iterations 5\n",
      "                           Logit Regression Results                           \n",
      "==============================================================================\n",
      "Dep. Variable:               Survived   No. Observations:                  714\n",
      "Model:                          Logit   Df Residuals:                      711\n",
      "Method:                           MLE   Df Model:                            2\n",
      "Date:                Wed, 26 Oct 2016   Pseudo R-squ.:                  0.1878\n",
      "Time:                        00:44:20   Log-Likelihood:                -391.70\n",
      "converged:                       True   LL-Null:                       -482.26\n",
      "                                        LLR p-value:                 4.691e-40\n",
      "==============================================================================\n",
      "                 coef    std err          z      P>|z|      [95.0% Conf. Int.]\n",
      "------------------------------------------------------------------------------\n",
      "Age            0.0242      0.005      5.335      0.000         0.015     0.033\n",
      "SexBinary     -2.0429      0.185    -11.049      0.000        -2.405    -1.681\n",
      "Pclass        -0.0402      0.063     -0.635      0.525        -0.164     0.084\n",
      "==============================================================================\n"
     ]
    }
   ],
   "source": [
    "logit = sm.Logit(titanic_with_ages_df['Survived'], titanic_with_ages_df[['Age', 'SexBinary','Pclass']])\n",
    "result = logit.fit()\n",
    "print result.summary()"
   ]
  },
  {
   "cell_type": "markdown",
   "metadata": {},
   "source": [
    "The probability of the survival outcomes if age and sex had no effect are below .0005 and are therefore extremely statistically significant.  However, the probabilty of obtaining this survival rate if passenger class had no effect is .5 and therefore not statistically significant.  By this measure, it is highly unlikely that passenger class was a common-causal variable for the correlations between sex, age, and survival.  \n",
    "\n",
    "There are many measures in this data, and there are other variables that could be a common-causal variable to explain the correlations shown above.  For example, passengers who were physically located further away from life rafts at the time of the call to evacuate the ship could have had a lower chance of survival due to the limited rafts.  Although we may never know exactly what would have caused any given passenger to survive that evening, the data does provide an interesting look into the effect maritime customs would have on survival rates for passengers."
   ]
  },
  {
   "cell_type": "markdown",
   "metadata": {},
   "source": [
    "## References\n",
    "\n",
    "Chi Square Independence Test for Two Pandas DF columns. Retrieved September 18, 2016, from http://codereview.stackexchange.com/questions/96761/chi-square-independence-test-for-two-pandas-df-columns\n",
    "\n",
    "Cufflinks. (n.d.). Retrieved September 13, 2016, from https://plot.ly/ipython-notebooks/cufflinks/\n",
    "\n",
    "Grasmick, H. G. (2005, Fall). Social Statistics. Lecture presented in OK, Norman.\n",
    "\n",
    "Is there a pythonic way to do a contingency table in Pandas? Retrieved September 17, 2016, from http://stackoverflow.com/questions/29901436/is-there-a-pythonic-way-to-do-a-contingency-table-in-pandas\n",
    "\n",
    "Pandas: How to use apply function to multiple columns. Retrieved September 13, 2016, from http://stackoverflow.com/questions/16353729/pandas-how-to-use-apply-function-to-multiple-columns\n",
    "\n",
    "Plot different DataFrames in the same figure. Retrieved September 14, 2016, from http://stackoverflow.com/questions/13872533/plot-different-dataframes-in-the-same-figure\n",
    "\n",
    "Pearson product-moment correlation coefficient. (n.d.). Retrieved September 13, 2016, from https://en.wikipedia.org/wiki/Pearson_product-moment_correlation_coefficient\n",
    "    \n",
    "Plotly. (n.d.). Retrieved September 14, 2016, from https://plot.ly/pandas/\n",
    "    \n",
    "Titanic: Machine Learning from Disaster. (n.d.). Retrieved September 13, 2016, from https://www.kaggle.com/c/titanic/data\n",
    "        \n",
    "Window, B. &. (n.d.). Pandas.Series.notnull¶. Retrieved September 13, 2016, from http://pandas.pydata.org/pandas-docs/stable/generated/pandas.Series.notnull.html\n",
    "    \n",
    "Women and children first. (n.d.). Retrieved September 13, 2016, from https://en.wikipedia.org/wiki/Women_and_children_first\n",
    "\n",
    "ŷhat | Logistic Regression in Python Using Rodeo. Retrieved September 18, 2016, from http://blog.yhat.com/posts/logistic-regression-python-rodeo.html"
   ]
  }
 ],
 "metadata": {
  "anaconda-cloud": {},
  "kernelspec": {
   "display_name": "Python [conda root]",
   "language": "python",
   "name": "conda-root-py"
  },
  "language_info": {
   "codemirror_mode": {
    "name": "ipython",
    "version": 2
   },
   "file_extension": ".py",
   "mimetype": "text/x-python",
   "name": "python",
   "nbconvert_exporter": "python",
   "pygments_lexer": "ipython2",
   "version": "2.7.12"
  }
 },
 "nbformat": 4,
 "nbformat_minor": 0
}
