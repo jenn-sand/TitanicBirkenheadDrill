{
 "cells": [
  {
   "cell_type": "markdown",
   "metadata": {},
   "source": [
    "# Titanic -- Analyzing Raw Data to Verify Popular Myth"
   ]
  },
  {
   "cell_type": "markdown",
   "metadata": {},
   "source": [
    "A popular myth surrounding the sinking of the Titanic that the crew observed the Birkenhead Drill, directing women and children to exit the limited life rafts first.  Can this be verified in the data?"
   ]
  },
  {
   "cell_type": "code",
   "execution_count": 1,
   "metadata": {
    "collapsed": false
   },
   "outputs": [],
   "source": [
    "import pandas as pd\n",
    "import numpy as np\n",
    "from scipy.stats import pearsonr\n",
    "import plotly.plotly as py\n",
    "import cufflinks as cf\n",
    "\n",
    "titanic_df = pd.read_csv('titanic_data.csv')"
   ]
  },
  {
   "cell_type": "markdown",
   "metadata": {},
   "source": [
    "First, an overview of what is present in this data set:"
   ]
  },
  {
   "cell_type": "code",
   "execution_count": 2,
   "metadata": {
    "collapsed": false,
    "scrolled": true
   },
   "outputs": [
    {
     "data": {
      "text/html": [
       "<div>\n",
       "<table border=\"1\" class=\"dataframe\">\n",
       "  <thead>\n",
       "    <tr style=\"text-align: right;\">\n",
       "      <th></th>\n",
       "      <th>PassengerId</th>\n",
       "      <th>Survived</th>\n",
       "      <th>Pclass</th>\n",
       "      <th>Name</th>\n",
       "      <th>Sex</th>\n",
       "      <th>Age</th>\n",
       "      <th>SibSp</th>\n",
       "      <th>Parch</th>\n",
       "      <th>Ticket</th>\n",
       "      <th>Fare</th>\n",
       "      <th>Cabin</th>\n",
       "      <th>Embarked</th>\n",
       "    </tr>\n",
       "  </thead>\n",
       "  <tbody>\n",
       "    <tr>\n",
       "      <th>0</th>\n",
       "      <td>1</td>\n",
       "      <td>0</td>\n",
       "      <td>3</td>\n",
       "      <td>Braund, Mr. Owen Harris</td>\n",
       "      <td>male</td>\n",
       "      <td>22.0</td>\n",
       "      <td>1</td>\n",
       "      <td>0</td>\n",
       "      <td>A/5 21171</td>\n",
       "      <td>7.2500</td>\n",
       "      <td>NaN</td>\n",
       "      <td>S</td>\n",
       "    </tr>\n",
       "    <tr>\n",
       "      <th>1</th>\n",
       "      <td>2</td>\n",
       "      <td>1</td>\n",
       "      <td>1</td>\n",
       "      <td>Cumings, Mrs. John Bradley (Florence Briggs Th...</td>\n",
       "      <td>female</td>\n",
       "      <td>38.0</td>\n",
       "      <td>1</td>\n",
       "      <td>0</td>\n",
       "      <td>PC 17599</td>\n",
       "      <td>71.2833</td>\n",
       "      <td>C85</td>\n",
       "      <td>C</td>\n",
       "    </tr>\n",
       "    <tr>\n",
       "      <th>2</th>\n",
       "      <td>3</td>\n",
       "      <td>1</td>\n",
       "      <td>3</td>\n",
       "      <td>Heikkinen, Miss. Laina</td>\n",
       "      <td>female</td>\n",
       "      <td>26.0</td>\n",
       "      <td>0</td>\n",
       "      <td>0</td>\n",
       "      <td>STON/O2. 3101282</td>\n",
       "      <td>7.9250</td>\n",
       "      <td>NaN</td>\n",
       "      <td>S</td>\n",
       "    </tr>\n",
       "    <tr>\n",
       "      <th>3</th>\n",
       "      <td>4</td>\n",
       "      <td>1</td>\n",
       "      <td>1</td>\n",
       "      <td>Futrelle, Mrs. Jacques Heath (Lily May Peel)</td>\n",
       "      <td>female</td>\n",
       "      <td>35.0</td>\n",
       "      <td>1</td>\n",
       "      <td>0</td>\n",
       "      <td>113803</td>\n",
       "      <td>53.1000</td>\n",
       "      <td>C123</td>\n",
       "      <td>S</td>\n",
       "    </tr>\n",
       "    <tr>\n",
       "      <th>4</th>\n",
       "      <td>5</td>\n",
       "      <td>0</td>\n",
       "      <td>3</td>\n",
       "      <td>Allen, Mr. William Henry</td>\n",
       "      <td>male</td>\n",
       "      <td>35.0</td>\n",
       "      <td>0</td>\n",
       "      <td>0</td>\n",
       "      <td>373450</td>\n",
       "      <td>8.0500</td>\n",
       "      <td>NaN</td>\n",
       "      <td>S</td>\n",
       "    </tr>\n",
       "  </tbody>\n",
       "</table>\n",
       "</div>"
      ],
      "text/plain": [
       "   PassengerId  Survived  Pclass  \\\n",
       "0            1         0       3   \n",
       "1            2         1       1   \n",
       "2            3         1       3   \n",
       "3            4         1       1   \n",
       "4            5         0       3   \n",
       "\n",
       "                                                Name     Sex   Age  SibSp  \\\n",
       "0                            Braund, Mr. Owen Harris    male  22.0      1   \n",
       "1  Cumings, Mrs. John Bradley (Florence Briggs Th...  female  38.0      1   \n",
       "2                             Heikkinen, Miss. Laina  female  26.0      0   \n",
       "3       Futrelle, Mrs. Jacques Heath (Lily May Peel)  female  35.0      1   \n",
       "4                           Allen, Mr. William Henry    male  35.0      0   \n",
       "\n",
       "   Parch            Ticket     Fare Cabin Embarked  \n",
       "0      0         A/5 21171   7.2500   NaN        S  \n",
       "1      0          PC 17599  71.2833   C85        C  \n",
       "2      0  STON/O2. 3101282   7.9250   NaN        S  \n",
       "3      0            113803  53.1000  C123        S  \n",
       "4      0            373450   8.0500   NaN        S  "
      ]
     },
     "execution_count": 2,
     "metadata": {},
     "output_type": "execute_result"
    }
   ],
   "source": [
    "titanic_df.head()"
   ]
  },
  {
   "cell_type": "code",
   "execution_count": 4,
   "metadata": {
    "collapsed": false
   },
   "outputs": [
    {
     "name": "stdout",
     "output_type": "stream",
     "text": [
      "       PassengerId    Survived      Pclass         Age       SibSp  \\\n",
      "count   891.000000  891.000000  891.000000  714.000000  891.000000   \n",
      "mean    446.000000    0.383838    2.308642   29.699118    0.523008   \n",
      "std     257.353842    0.486592    0.836071   14.526497    1.102743   \n",
      "min       1.000000    0.000000    1.000000    0.420000    0.000000   \n",
      "25%     223.500000    0.000000    2.000000         NaN    0.000000   \n",
      "50%     446.000000    0.000000    3.000000         NaN    0.000000   \n",
      "75%     668.500000    1.000000    3.000000         NaN    1.000000   \n",
      "max     891.000000    1.000000    3.000000   80.000000    8.000000   \n",
      "\n",
      "            Parch        Fare  \n",
      "count  891.000000  891.000000  \n",
      "mean     0.381594   32.204208  \n",
      "std      0.806057   49.693429  \n",
      "min      0.000000    0.000000  \n",
      "25%      0.000000    7.910400  \n",
      "50%      0.000000   14.454200  \n",
      "75%      0.000000   31.000000  \n",
      "max      6.000000  512.329200  \n"
     ]
    }
   ],
   "source": [
    "#Basic stats on the overall data\n",
    "#Because of NaN in data, this may show a warning on some versions of Pandas that NaN is present in data\n",
    "print titanic_df.describe()"
   ]
  },
  {
   "cell_type": "code",
   "execution_count": 5,
   "metadata": {
    "collapsed": false
   },
   "outputs": [
    {
     "name": "stdout",
     "output_type": "stream",
     "text": [
      "r: 0.543351380658\n",
      "scipy calculation of r: (0.54335138065775523, 1.4060661308795969e-69)\n",
      "r squared: 0.295230722863\n"
     ]
    }
   ],
   "source": [
    "#Survived is a binary, mapping it to a string for display purposes\n",
    "titanic_df['Survival'] = titanic_df['Survived'].apply(lambda s:'Survivor' if s == True else 'Victim')\n",
    "\n",
    "#map gender to a binary for statistics\n",
    "def numeric_gender(g):\n",
    "    if g == 'male':\n",
    "        return 0\n",
    "    elif g == 'female':\n",
    "        return 1\n",
    "    else:\n",
    "        return 2\n",
    "\n",
    "#calculate Pearson's r for Sex:Survival using corrcoef\n",
    "r = np.corrcoef(map(numeric_gender,titanic_df['Sex']), titanic_df['Survived'])[0,1]\n",
    "\n",
    "print 'r: ' + str(r)\n",
    "\n",
    "print 'scipy calculation of r: ' + str(pearsonr(map(numeric_gender,titanic_df['Sex']), titanic_df['Survived']))\n",
    "\n",
    "print 'r squared: ' + str(r**2)"
   ]
  },
  {
   "cell_type": "markdown",
   "metadata": {},
   "source": [
    "At 890 degrees of freedom, a two-tailed P value for this correlation between gender and survival is 0.0001; this is extremely statistically significant.  "
   ]
  },
  {
   "cell_type": "code",
   "execution_count": 6,
   "metadata": {
    "collapsed": false,
    "scrolled": true
   },
   "outputs": [],
   "source": [
    "#Create grouped data to display the number of Survivors/Victims by Sex\n",
    "titanic_groupby_sex_survived = titanic_df.groupby(['Sex','Survived'], as_index=False)\n",
    "\n",
    "titanic_survival_gender = titanic_groupby_sex_survived['PassengerId'].count().reset_index()\n",
    "\n",
    "#define Function to show clean names for Sex+Survival pair\n",
    "def survived_gender_trans(sex, survived):\n",
    "    survived_str = ' %s'%('Survivor' if survived == True else 'Victim')\n",
    "    return (sex + survived_str).title()\n",
    "\n",
    "#Create new column on grouped data for clean names for Sex+Survival pair\n",
    "titanic_survival_gender['SurvivedGender'] = titanic_survival_gender.apply(lambda row: survived_gender_trans(row['Sex'], row['Survived']), axis=1)"
   ]
  },
  {
   "cell_type": "code",
   "execution_count": 7,
   "metadata": {
    "collapsed": false
   },
   "outputs": [
    {
     "data": {
      "text/html": [
       "<iframe id=\"igraph\" scrolling=\"no\" style=\"border:none;\" seamless=\"seamless\" src=\"https://plot.ly/~jennis/7.embed\" height=\"525px\" width=\"100%\"></iframe>"
      ],
      "text/plain": [
       "<plotly.tools.PlotlyDisplay object>"
      ]
     },
     "execution_count": 7,
     "metadata": {},
     "output_type": "execute_result"
    }
   ],
   "source": [
    "#Display plotly graph of Survival By Gender (Sex:Survival pair)\n",
    "titanic_survival_gender[['SurvivedGender','PassengerId']].iplot(kind='bar', filename='cufflinks/bar-chart', \n",
    "                                                                x='SurvivedGender', title = 'Survival by Gender',\n",
    "                                                                yTitle = 'Number of Passengers')"
   ]
  },
  {
   "cell_type": "markdown",
   "metadata": {},
   "source": [
    "The above graph visually displays how female passengers were significantly more likely to survive than male passengers.\n",
    "\n",
    "Because the age data is incomplete, we'll limit the data to what contains age and compare that to survival:"
   ]
  },
  {
   "cell_type": "code",
   "execution_count": 8,
   "metadata": {
    "collapsed": false
   },
   "outputs": [],
   "source": [
    "#filter data to non-NaN age data\n",
    "titanic_with_ages_df = titanic_df[titanic_df['Age'].notnull()]"
   ]
  },
  {
   "cell_type": "code",
   "execution_count": 9,
   "metadata": {
    "collapsed": false
   },
   "outputs": [
    {
     "name": "stdout",
     "output_type": "stream",
     "text": [
      "-0.0772210945722\n",
      "(-0.077221094572177656, 0.039124654013483327)\n"
     ]
    }
   ],
   "source": [
    "#calculate Pearson's r for Age:Survived correlation\n",
    "print np.corrcoef(titanic_with_ages_df['Age'], titanic_with_ages_df['Survived'])[0,1]\n",
    "\n",
    "print pearsonr(titanic_with_ages_df['Age'], titanic_with_ages_df['Survived'])"
   ]
  },
  {
   "cell_type": "markdown",
   "metadata": {},
   "source": [
    "Pearson's r for age to survival is much closer to zero, therefore less significant, than gender.  At 713 degrees of freedom, a two-tailed P value for this correlation between age and survival is 0.039, which is considered to be statistically significant."
   ]
  },
  {
   "cell_type": "code",
   "execution_count": 10,
   "metadata": {
    "collapsed": false
   },
   "outputs": [],
   "source": [
    "#Create grouped data to display the number of Survivors/Victims by Age\n",
    "titanic_groupby_age_survived = titanic_with_ages_df.groupby(['Age','Survival'])\n",
    "\n",
    "#unstack the data so it will show in 'two' stacked graphs\n",
    "titanic_survival_age = titanic_groupby_age_survived['PassengerId'].count().unstack()"
   ]
  },
  {
   "cell_type": "code",
   "execution_count": 11,
   "metadata": {
    "collapsed": false
   },
   "outputs": [
    {
     "data": {
      "text/html": [
       "<iframe id=\"igraph\" scrolling=\"no\" style=\"border:none;\" seamless=\"seamless\" src=\"https://plot.ly/~jennis/13.embed\" height=\"525px\" width=\"100%\"></iframe>"
      ],
      "text/plain": [
       "<plotly.tools.PlotlyDisplay object>"
      ]
     },
     "execution_count": 11,
     "metadata": {},
     "output_type": "execute_result"
    }
   ],
   "source": [
    "titanic_survival_age.iplot(kind='area', title='Age and Survival for Titanic Passengers',\n",
    "                           xTitle='Age of Passengers', yTitle = 'Number of Passengers', \n",
    "                           fill=True, filename='cufflinks/filled-area')"
   ]
  },
  {
   "cell_type": "markdown",
   "metadata": {},
   "source": [
    "Age and Survival for Titanic Passengers appears to show a statistical likelihood for victims to be adults rather than seniors or small children.  This supports the theory that the Burkenhead drill was followed; there is a strong correlation between sex and survival, and a statistically significant correlation between age and survival.  \n",
    "\n",
    "However, before assuming causality, other factors would need to be brought into consideration to ensure that these two correlations are not a result of a common-causal variable."
   ]
  },
  {
   "cell_type": "markdown",
   "metadata": {},
   "source": [
    "## References\n",
    "\n",
    "Cufflinks. (n.d.). Retrieved September 13, 2016, from https://plot.ly/ipython-notebooks/cufflinks/\n",
    "\n",
    "Pandas: How to use apply function to multiple columns. Retrieved September 13, 2016, from http://stackoverflow.com/questions/16353729/pandas-how-to-use-apply-function-to-multiple-columns\n",
    "\n",
    "Plot different DataFrames in the same figure. Retrieved September 14, 2016, from http://stackoverflow.com/questions/13872533/plot-different-dataframes-in-the-same-figure\n",
    "\n",
    "Pearson product-moment correlation coefficient. (n.d.). Retrieved September 13, 2016, from https://en.wikipedia.org/wiki/Pearson_product-moment_correlation_coefficient\n",
    "    \n",
    "Plotly. (n.d.). Retrieved September 14, 2016, from https://plot.ly/pandas/\n",
    "    \n",
    "Titanic: Machine Learning from Disaster. (n.d.). Retrieved September 13, 2016, from https://www.kaggle.com/c/titanic/data\n",
    "        \n",
    "Window, B. &. (n.d.). Pandas.Series.notnull¶. Retrieved September 13, 2016, from http://pandas.pydata.org/pandas-docs/stable/generated/pandas.Series.notnull.html\n",
    "    \n",
    "Women and children first. (n.d.). Retrieved September 13, 2016, from https://en.wikipedia.org/wiki/Women_and_children_first"
   ]
  },
  {
   "cell_type": "code",
   "execution_count": null,
   "metadata": {
    "collapsed": true
   },
   "outputs": [],
   "source": []
  }
 ],
 "metadata": {
  "kernelspec": {
   "display_name": "Python [Root]",
   "language": "python",
   "name": "Python [Root]"
  },
  "language_info": {
   "codemirror_mode": {
    "name": "ipython",
    "version": 2
   },
   "file_extension": ".py",
   "mimetype": "text/x-python",
   "name": "python",
   "nbconvert_exporter": "python",
   "pygments_lexer": "ipython2",
   "version": "2.7.12"
  }
 },
 "nbformat": 4,
 "nbformat_minor": 0
}
